{
 "cells": [
  {
   "cell_type": "code",
   "execution_count": 1,
   "id": "ebc51f42-3953-4df3-af2f-dfc0333ce73d",
   "metadata": {},
   "outputs": [
    {
     "name": "stdout",
     "output_type": "stream",
     "text": [
      "<class 'pandas.core.frame.DataFrame'>\n",
      "MultiIndex: 1800 entries, ('ETH/USDT', Timestamp('2025-07-23 13:00:00')) to ('MATIC/USDT', Timestamp('2024-09-10 02:00:00'))\n",
      "Data columns (total 5 columns):\n",
      " #   Column  Non-Null Count  Dtype  \n",
      "---  ------  --------------  -----  \n",
      " 0   open    1800 non-null   float64\n",
      " 1   high    1800 non-null   float64\n",
      " 2   low     1800 non-null   float64\n",
      " 3   close   1800 non-null   float64\n",
      " 4   volume  1800 non-null   float64\n",
      "dtypes: float64(5)\n",
      "memory usage: 95.3+ KB\n"
     ]
    },
    {
     "data": {
      "text/plain": [
       "FrozenList(['symbol', 'timestamp'])"
      ]
     },
     "execution_count": 1,
     "metadata": {},
     "output_type": "execute_result"
    }
   ],
   "source": [
    "import pandas as pd\n",
    "\n",
    "df = pd.read_parquet(\"ohlcv_parquet/ohlcv_1h.parquet\")\n",
    "\n",
    "# Show structure\n",
    "df.info()\n",
    "\n",
    "# Preview a few rows\n",
    "df.head()\n",
    "\n",
    "# Check MultiIndex\n",
    "df.index.names"
   ]
  },
  {
   "cell_type": "code",
   "execution_count": null,
   "id": "06afa885-af84-4d62-af47-8726f1849cd5",
   "metadata": {},
   "outputs": [],
   "source": []
  }
 ],
 "metadata": {
  "kernelspec": {
   "display_name": "Python 3 (ipykernel)",
   "language": "python",
   "name": "python3"
  },
  "language_info": {
   "codemirror_mode": {
    "name": "ipython",
    "version": 3
   },
   "file_extension": ".py",
   "mimetype": "text/x-python",
   "name": "python",
   "nbconvert_exporter": "python",
   "pygments_lexer": "ipython3",
   "version": "3.9.6"
  }
 },
 "nbformat": 4,
 "nbformat_minor": 5
}
